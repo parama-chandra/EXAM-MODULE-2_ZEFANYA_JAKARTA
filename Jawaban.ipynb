{
 "cells": [
  {
   "cell_type": "markdown",
   "metadata": {},
   "source": [
    "# Ujian Modul 2 - Purwadhika Data Science JC Program\n",
    "\n",
    "## Context - Taken from Kaggle\n",
    "Did you know that claims can be filed against TSA? Sometimes US Terminal Security Agency (TSA) makes mistakes. People can get hurt and property can be damaged, lost, or stolen. Claims are generally filed against TSA for personal injuries and lost or damaged property during screenings and they keep records of every claim!\n",
    "\n",
    "### Content\n",
    "The dataset includes claims filed between 2002 through 2015.\n",
    "\n",
    "1. Claim Number\n",
    "1. Date Received\n",
    "1. Incident Date\n",
    "1. Airport Code\n",
    "1. Airport Name\n",
    "1. Airline Name\n",
    "1. Claim Type\n",
    "1. Claim Site\n",
    "1. Item\n",
    "1. Claim Amount\n",
    "1. Status\n",
    "1. Close Amount\n",
    "1. Disposition\n",
    "\n",
    "This data is coming from the Kaggle Dataset that contain the data of claim that have been filed into the TSA. We would try to explore the data and clean the data partially (we would not clean and analyze everything as it would take more time than necessary) and we would only use 25% data from the original dataset.\n",
    "\n",
    "This exam scoring would be explained below:\n",
    "\n",
    "- This Notebook would have total score of 80 (+ 10 Bonus POINT for Bonus Question), which consist of:\n",
    "    - 40 POINT for the Question part (10 point for each question)\n",
    "    - 40 POINT for the preprocessing part by following the guide\n",
    "- The Dashboard Tableau would yield 20 POINT\n",
    "- The Maximum Score would be still 100, Bonus Question is just a Bonus. Work it if you have an extra time and already sure about all your other answer (or not sure about the other question, and need this bonus question to help)\n",
    "\n",
    "When you finish, upload your notebook contain all the answer AND the Tableau Dashboard Link to regitaz@gmail.com. You do not need to upload the .csv file. "
   ]
  },
  {
   "cell_type": "markdown",
   "metadata": {},
   "source": [
    "Try to read the data and show all the important info first. For starter, try to understand what each column represent."
   ]
  },
  {
   "cell_type": "code",
   "execution_count": 305,
   "metadata": {
    "ExecuteTime": {
     "end_time": "2019-10-12T18:25:33.696101Z",
     "start_time": "2019-10-12T18:25:30.439737Z"
    }
   },
   "outputs": [],
   "source": [
    "import pandas as pd\n",
    "import numpy as np\n",
    "import matplotlib.pyplot as plt\n",
    "import seaborn as sns\n",
    "# import pandas.DataFrame as d\n",
    "\n",
    "%matplotlib inline"
   ]
  },
  {
   "cell_type": "code",
   "execution_count": 306,
   "metadata": {
    "ExecuteTime": {
     "end_time": "2019-10-12T18:25:33.862002Z",
     "start_time": "2019-10-12T18:25:33.697102Z"
    }
   },
   "outputs": [
    {
     "name": "stderr",
     "output_type": "stream",
     "text": [
      "C:\\Users\\zefan\\Anaconda3\\lib\\site-packages\\IPython\\core\\interactiveshell.py:3072: DtypeWarning: Columns (0,11,12) have mixed types.Specify dtype option on import or set low_memory=False.\n",
      "  interactivity=interactivity, compiler=compiler, result=result)\n"
     ]
    }
   ],
   "source": [
    "df = pd.read_csv('tsa_claims.csv')"
   ]
  },
  {
   "cell_type": "code",
   "execution_count": 307,
   "metadata": {
    "ExecuteTime": {
     "end_time": "2019-10-12T18:25:33.876991Z",
     "start_time": "2019-10-12T18:25:33.862944Z"
    }
   },
   "outputs": [
    {
     "data": {
      "text/html": [
       "<div>\n",
       "<style scoped>\n",
       "    .dataframe tbody tr th:only-of-type {\n",
       "        vertical-align: middle;\n",
       "    }\n",
       "\n",
       "    .dataframe tbody tr th {\n",
       "        vertical-align: top;\n",
       "    }\n",
       "\n",
       "    .dataframe thead th {\n",
       "        text-align: right;\n",
       "    }\n",
       "</style>\n",
       "<table border=\"1\" class=\"dataframe\">\n",
       "  <thead>\n",
       "    <tr style=\"text-align: right;\">\n",
       "      <th></th>\n",
       "      <th>Claim Number</th>\n",
       "      <th>Date Received</th>\n",
       "      <th>Incident Date</th>\n",
       "      <th>Airport Code</th>\n",
       "      <th>Airport Name</th>\n",
       "      <th>Airline Name</th>\n",
       "      <th>Claim Type</th>\n",
       "      <th>Claim Site</th>\n",
       "      <th>Item</th>\n",
       "      <th>Claim Amount</th>\n",
       "      <th>Status</th>\n",
       "      <th>Close Amount</th>\n",
       "      <th>Disposition</th>\n",
       "    </tr>\n",
       "  </thead>\n",
       "  <tbody>\n",
       "    <tr>\n",
       "      <th>0</th>\n",
       "      <td>0909802M</td>\n",
       "      <td>4-Jan-02</td>\n",
       "      <td>12/12/2002 0:00</td>\n",
       "      <td>EWR</td>\n",
       "      <td>Newark International Airport</td>\n",
       "      <td>Continental Airlines</td>\n",
       "      <td>Property Damage</td>\n",
       "      <td>Checkpoint</td>\n",
       "      <td>Other</td>\n",
       "      <td>$350.00</td>\n",
       "      <td>Approved</td>\n",
       "      <td>$350.00</td>\n",
       "      <td>Approve in Full</td>\n",
       "    </tr>\n",
       "    <tr>\n",
       "      <th>1</th>\n",
       "      <td>0202417M</td>\n",
       "      <td>2-Feb-02</td>\n",
       "      <td>1/16/2004 0:00</td>\n",
       "      <td>SEA</td>\n",
       "      <td>Seattle-Tacoma International</td>\n",
       "      <td>NaN</td>\n",
       "      <td>Property Damage</td>\n",
       "      <td>Checked Baggage</td>\n",
       "      <td>Luggage (all types including footlockers)</td>\n",
       "      <td>$100.00</td>\n",
       "      <td>Settled</td>\n",
       "      <td>$50.00</td>\n",
       "      <td>Settle</td>\n",
       "    </tr>\n",
       "    <tr>\n",
       "      <th>2</th>\n",
       "      <td>0202445M</td>\n",
       "      <td>4-Feb-02</td>\n",
       "      <td>11/26/2003 0:00</td>\n",
       "      <td>STL</td>\n",
       "      <td>Lambert St. Louis International</td>\n",
       "      <td>American Airlines</td>\n",
       "      <td>Property Damage</td>\n",
       "      <td>Checked Baggage</td>\n",
       "      <td>Cell Phones</td>\n",
       "      <td>$278.88</td>\n",
       "      <td>Settled</td>\n",
       "      <td>$227.92</td>\n",
       "      <td>Settle</td>\n",
       "    </tr>\n",
       "    <tr>\n",
       "      <th>3</th>\n",
       "      <td>0909816M</td>\n",
       "      <td>7-Feb-02</td>\n",
       "      <td>1/6/2003 0:00</td>\n",
       "      <td>MIA</td>\n",
       "      <td>Miami International Airport</td>\n",
       "      <td>American Airlines</td>\n",
       "      <td>Property Damage</td>\n",
       "      <td>Checkpoint</td>\n",
       "      <td>Luggage (all types including footlockers)</td>\n",
       "      <td>$50.00</td>\n",
       "      <td>Approved</td>\n",
       "      <td>$50.00</td>\n",
       "      <td>Approve in Full</td>\n",
       "    </tr>\n",
       "    <tr>\n",
       "      <th>4</th>\n",
       "      <td>2005032379513</td>\n",
       "      <td>18-Feb-02</td>\n",
       "      <td>2/5/2005 0:00</td>\n",
       "      <td>MCO</td>\n",
       "      <td>Orlando International Airport</td>\n",
       "      <td>Delta (Song)</td>\n",
       "      <td>Property Damage</td>\n",
       "      <td>Checkpoint</td>\n",
       "      <td>Baby - Strollers; car seats; playpen; etc.</td>\n",
       "      <td>$84.79</td>\n",
       "      <td>Approved</td>\n",
       "      <td>$84.79</td>\n",
       "      <td>Approve in Full</td>\n",
       "    </tr>\n",
       "  </tbody>\n",
       "</table>\n",
       "</div>"
      ],
      "text/plain": [
       "    Claim Number Date Received    Incident Date Airport Code  \\\n",
       "0       0909802M      4-Jan-02  12/12/2002 0:00          EWR   \n",
       "1       0202417M      2-Feb-02   1/16/2004 0:00          SEA   \n",
       "2       0202445M      4-Feb-02  11/26/2003 0:00          STL   \n",
       "3       0909816M      7-Feb-02    1/6/2003 0:00          MIA   \n",
       "4  2005032379513     18-Feb-02    2/5/2005 0:00          MCO   \n",
       "\n",
       "                      Airport Name          Airline Name       Claim Type  \\\n",
       "0     Newark International Airport  Continental Airlines  Property Damage   \n",
       "1     Seattle-Tacoma International                   NaN  Property Damage   \n",
       "2  Lambert St. Louis International     American Airlines  Property Damage   \n",
       "3      Miami International Airport     American Airlines  Property Damage   \n",
       "4    Orlando International Airport          Delta (Song)  Property Damage   \n",
       "\n",
       "        Claim Site                                        Item Claim Amount  \\\n",
       "0       Checkpoint                                       Other     $350.00    \n",
       "1  Checked Baggage   Luggage (all types including footlockers)     $100.00    \n",
       "2  Checked Baggage                                 Cell Phones     $278.88    \n",
       "3       Checkpoint   Luggage (all types including footlockers)      $50.00    \n",
       "4       Checkpoint  Baby - Strollers; car seats; playpen; etc.      $84.79    \n",
       "\n",
       "     Status Close Amount      Disposition  \n",
       "0  Approved     $350.00   Approve in Full  \n",
       "1   Settled      $50.00            Settle  \n",
       "2   Settled     $227.92            Settle  \n",
       "3  Approved      $50.00   Approve in Full  \n",
       "4  Approved      $84.79   Approve in Full  "
      ]
     },
     "execution_count": 307,
     "metadata": {},
     "output_type": "execute_result"
    }
   ],
   "source": [
    "df.head()"
   ]
  },
  {
   "cell_type": "code",
   "execution_count": 308,
   "metadata": {
    "ExecuteTime": {
     "end_time": "2019-10-12T18:25:33.889021Z",
     "start_time": "2019-10-12T18:25:33.878502Z"
    }
   },
   "outputs": [],
   "source": [
    "df= df.iloc[0:51066,:]"
   ]
  },
  {
   "cell_type": "code",
   "execution_count": 309,
   "metadata": {
    "ExecuteTime": {
     "end_time": "2019-10-12T18:25:33.925952Z",
     "start_time": "2019-10-12T18:25:33.890000Z"
    },
    "tags": []
   },
   "outputs": [
    {
     "name": "stdout",
     "output_type": "stream",
     "text": [
      "<class 'pandas.core.frame.DataFrame'>\n",
      "RangeIndex: 51066 entries, 0 to 51065\n",
      "Data columns (total 13 columns):\n",
      " #   Column         Non-Null Count  Dtype \n",
      "---  ------         --------------  ----- \n",
      " 0   Claim Number   51066 non-null  object\n",
      " 1   Date Received  51066 non-null  object\n",
      " 2   Incident Date  49346 non-null  object\n",
      " 3   Airport Code   44285 non-null  object\n",
      " 4   Airport Name   44285 non-null  object\n",
      " 5   Airline Name   29624 non-null  object\n",
      " 6   Claim Type     44282 non-null  object\n",
      " 7   Claim Site     50910 non-null  object\n",
      " 8   Item           50632 non-null  object\n",
      " 9   Claim Amount   48719 non-null  object\n",
      " 10  Status         51066 non-null  object\n",
      " 11  Close Amount   45568 non-null  object\n",
      " 12  Disposition    44752 non-null  object\n",
      "dtypes: object(13)\n",
      "memory usage: 5.1+ MB\n"
     ]
    }
   ],
   "source": [
    "df.info()"
   ]
  },
  {
   "cell_type": "code",
   "execution_count": 310,
   "metadata": {
    "ExecuteTime": {
     "end_time": "2019-10-12T18:25:34.061017Z",
     "start_time": "2019-10-12T18:25:33.927946Z"
    }
   },
   "outputs": [
    {
     "data": {
      "text/html": [
       "<div>\n",
       "<style scoped>\n",
       "    .dataframe tbody tr th:only-of-type {\n",
       "        vertical-align: middle;\n",
       "    }\n",
       "\n",
       "    .dataframe tbody tr th {\n",
       "        vertical-align: top;\n",
       "    }\n",
       "\n",
       "    .dataframe thead th {\n",
       "        text-align: right;\n",
       "    }\n",
       "</style>\n",
       "<table border=\"1\" class=\"dataframe\">\n",
       "  <thead>\n",
       "    <tr style=\"text-align: right;\">\n",
       "      <th></th>\n",
       "      <th>Claim Number</th>\n",
       "      <th>Date Received</th>\n",
       "      <th>Incident Date</th>\n",
       "      <th>Airport Code</th>\n",
       "      <th>Airport Name</th>\n",
       "      <th>Airline Name</th>\n",
       "      <th>Claim Type</th>\n",
       "      <th>Claim Site</th>\n",
       "      <th>Item</th>\n",
       "      <th>Claim Amount</th>\n",
       "      <th>Status</th>\n",
       "      <th>Close Amount</th>\n",
       "      <th>Disposition</th>\n",
       "    </tr>\n",
       "  </thead>\n",
       "  <tbody>\n",
       "    <tr>\n",
       "      <th>count</th>\n",
       "      <td>51066</td>\n",
       "      <td>51066</td>\n",
       "      <td>49346</td>\n",
       "      <td>44285</td>\n",
       "      <td>44285</td>\n",
       "      <td>29624</td>\n",
       "      <td>44282</td>\n",
       "      <td>50910</td>\n",
       "      <td>50632</td>\n",
       "      <td>48719</td>\n",
       "      <td>51066</td>\n",
       "      <td>45568</td>\n",
       "      <td>44752</td>\n",
       "    </tr>\n",
       "    <tr>\n",
       "      <th>unique</th>\n",
       "      <td>51065</td>\n",
       "      <td>637</td>\n",
       "      <td>1038</td>\n",
       "      <td>299</td>\n",
       "      <td>299</td>\n",
       "      <td>113</td>\n",
       "      <td>6</td>\n",
       "      <td>4</td>\n",
       "      <td>65</td>\n",
       "      <td>12585</td>\n",
       "      <td>8</td>\n",
       "      <td>8729</td>\n",
       "      <td>3</td>\n",
       "    </tr>\n",
       "    <tr>\n",
       "      <th>top</th>\n",
       "      <td>2004050450432</td>\n",
       "      <td>5-Dec-03</td>\n",
       "      <td>12/29/2003 0:00</td>\n",
       "      <td>LAX</td>\n",
       "      <td>Los Angeles International Airport</td>\n",
       "      <td>American Airlines</td>\n",
       "      <td>Property Damage</td>\n",
       "      <td>Checked Baggage</td>\n",
       "      <td>Other</td>\n",
       "      <td>$100.00</td>\n",
       "      <td>Approved</td>\n",
       "      <td>$0.00</td>\n",
       "      <td>Approve in Full</td>\n",
       "    </tr>\n",
       "    <tr>\n",
       "      <th>freq</th>\n",
       "      <td>2</td>\n",
       "      <td>682</td>\n",
       "      <td>137</td>\n",
       "      <td>2535</td>\n",
       "      <td>2535</td>\n",
       "      <td>4829</td>\n",
       "      <td>21841</td>\n",
       "      <td>39006</td>\n",
       "      <td>15732</td>\n",
       "      <td>1601</td>\n",
       "      <td>16259</td>\n",
       "      <td>14172</td>\n",
       "      <td>16261</td>\n",
       "    </tr>\n",
       "  </tbody>\n",
       "</table>\n",
       "</div>"
      ],
      "text/plain": [
       "         Claim Number Date Received    Incident Date Airport Code  \\\n",
       "count           51066         51066            49346        44285   \n",
       "unique          51065           637             1038          299   \n",
       "top     2004050450432      5-Dec-03  12/29/2003 0:00          LAX   \n",
       "freq                2           682              137         2535   \n",
       "\n",
       "                             Airport Name       Airline Name       Claim Type  \\\n",
       "count                               44285              29624            44282   \n",
       "unique                                299                113                6   \n",
       "top     Los Angeles International Airport  American Airlines  Property Damage   \n",
       "freq                                 2535               4829            21841   \n",
       "\n",
       "             Claim Site   Item Claim Amount    Status Close Amount  \\\n",
       "count             50910  50632        48719     51066        45568   \n",
       "unique                4     65        12585         8         8729   \n",
       "top     Checked Baggage  Other     $100.00   Approved       $0.00    \n",
       "freq              39006  15732         1601     16259        14172   \n",
       "\n",
       "            Disposition  \n",
       "count             44752  \n",
       "unique                3  \n",
       "top     Approve in Full  \n",
       "freq              16261  "
      ]
     },
     "execution_count": 310,
     "metadata": {},
     "output_type": "execute_result"
    }
   ],
   "source": [
    "df.describe()"
   ]
  },
  {
   "cell_type": "code",
   "execution_count": 311,
   "metadata": {
    "ExecuteTime": {
     "end_time": "2019-10-12T18:25:34.191977Z",
     "start_time": "2019-10-12T18:25:34.061969Z"
    }
   },
   "outputs": [
    {
     "data": {
      "text/html": [
       "<div>\n",
       "<style scoped>\n",
       "    .dataframe tbody tr th:only-of-type {\n",
       "        vertical-align: middle;\n",
       "    }\n",
       "\n",
       "    .dataframe tbody tr th {\n",
       "        vertical-align: top;\n",
       "    }\n",
       "\n",
       "    .dataframe thead th {\n",
       "        text-align: right;\n",
       "    }\n",
       "</style>\n",
       "<table border=\"1\" class=\"dataframe\">\n",
       "  <thead>\n",
       "    <tr style=\"text-align: right;\">\n",
       "      <th></th>\n",
       "      <th>count</th>\n",
       "      <th>unique</th>\n",
       "      <th>top</th>\n",
       "      <th>freq</th>\n",
       "    </tr>\n",
       "  </thead>\n",
       "  <tbody>\n",
       "    <tr>\n",
       "      <th>Claim Number</th>\n",
       "      <td>51066</td>\n",
       "      <td>51065</td>\n",
       "      <td>2004050450432</td>\n",
       "      <td>2</td>\n",
       "    </tr>\n",
       "    <tr>\n",
       "      <th>Date Received</th>\n",
       "      <td>51066</td>\n",
       "      <td>637</td>\n",
       "      <td>5-Dec-03</td>\n",
       "      <td>682</td>\n",
       "    </tr>\n",
       "    <tr>\n",
       "      <th>Incident Date</th>\n",
       "      <td>49346</td>\n",
       "      <td>1038</td>\n",
       "      <td>12/29/2003 0:00</td>\n",
       "      <td>137</td>\n",
       "    </tr>\n",
       "    <tr>\n",
       "      <th>Airport Code</th>\n",
       "      <td>44285</td>\n",
       "      <td>299</td>\n",
       "      <td>LAX</td>\n",
       "      <td>2535</td>\n",
       "    </tr>\n",
       "    <tr>\n",
       "      <th>Airport Name</th>\n",
       "      <td>44285</td>\n",
       "      <td>299</td>\n",
       "      <td>Los Angeles International Airport</td>\n",
       "      <td>2535</td>\n",
       "    </tr>\n",
       "    <tr>\n",
       "      <th>Airline Name</th>\n",
       "      <td>29624</td>\n",
       "      <td>113</td>\n",
       "      <td>American Airlines</td>\n",
       "      <td>4829</td>\n",
       "    </tr>\n",
       "    <tr>\n",
       "      <th>Claim Type</th>\n",
       "      <td>44282</td>\n",
       "      <td>6</td>\n",
       "      <td>Property Damage</td>\n",
       "      <td>21841</td>\n",
       "    </tr>\n",
       "    <tr>\n",
       "      <th>Claim Site</th>\n",
       "      <td>50910</td>\n",
       "      <td>4</td>\n",
       "      <td>Checked Baggage</td>\n",
       "      <td>39006</td>\n",
       "    </tr>\n",
       "    <tr>\n",
       "      <th>Item</th>\n",
       "      <td>50632</td>\n",
       "      <td>65</td>\n",
       "      <td>Other</td>\n",
       "      <td>15732</td>\n",
       "    </tr>\n",
       "    <tr>\n",
       "      <th>Claim Amount</th>\n",
       "      <td>48719</td>\n",
       "      <td>12585</td>\n",
       "      <td>$100.00</td>\n",
       "      <td>1601</td>\n",
       "    </tr>\n",
       "    <tr>\n",
       "      <th>Status</th>\n",
       "      <td>51066</td>\n",
       "      <td>8</td>\n",
       "      <td>Approved</td>\n",
       "      <td>16259</td>\n",
       "    </tr>\n",
       "    <tr>\n",
       "      <th>Close Amount</th>\n",
       "      <td>45568</td>\n",
       "      <td>8729</td>\n",
       "      <td>$0.00</td>\n",
       "      <td>14172</td>\n",
       "    </tr>\n",
       "    <tr>\n",
       "      <th>Disposition</th>\n",
       "      <td>44752</td>\n",
       "      <td>3</td>\n",
       "      <td>Approve in Full</td>\n",
       "      <td>16261</td>\n",
       "    </tr>\n",
       "  </tbody>\n",
       "</table>\n",
       "</div>"
      ],
      "text/plain": [
       "               count unique                                top   freq\n",
       "Claim Number   51066  51065                      2004050450432      2\n",
       "Date Received  51066    637                           5-Dec-03    682\n",
       "Incident Date  49346   1038                    12/29/2003 0:00    137\n",
       "Airport Code   44285    299                                LAX   2535\n",
       "Airport Name   44285    299  Los Angeles International Airport   2535\n",
       "Airline Name   29624    113                  American Airlines   4829\n",
       "Claim Type     44282      6                    Property Damage  21841\n",
       "Claim Site     50910      4                    Checked Baggage  39006\n",
       "Item           50632     65                              Other  15732\n",
       "Claim Amount   48719  12585                           $100.00    1601\n",
       "Status         51066      8                           Approved  16259\n",
       "Close Amount   45568   8729                             $0.00   14172\n",
       "Disposition    44752      3                    Approve in Full  16261"
      ]
     },
     "execution_count": 311,
     "metadata": {},
     "output_type": "execute_result"
    }
   ],
   "source": [
    "df.describe().transpose()"
   ]
  },
  {
   "cell_type": "markdown",
   "metadata": {},
   "source": [
    "If you notice, there is '-' value that become a filler for an empty value. Replace all these '-' in every column into NaN object (np.nan) "
   ]
  },
  {
   "cell_type": "code",
   "execution_count": 312,
   "metadata": {
    "ExecuteTime": {
     "end_time": "2019-10-12T18:25:34.275744Z",
     "start_time": "2019-10-12T18:25:34.194215Z"
    }
   },
   "outputs": [],
   "source": [
    "df.replace(to_replace=\"-\",value=np.nan,inplace=True)"
   ]
  },
  {
   "cell_type": "markdown",
   "metadata": {},
   "source": [
    "Try to convert the Date Received and Incident Date data type into Datetime object. For the Incident Date columns, if you directly try to convert the column into datetime object it would raise an error notice. In that case, try to show the dataframe with the Incident Date column contain all the error.  "
   ]
  },
  {
   "cell_type": "code",
   "execution_count": 313,
   "metadata": {
    "ExecuteTime": {
     "end_time": "2019-10-12T18:25:37.541846Z",
     "start_time": "2019-10-12T18:25:34.277654Z"
    }
   },
   "outputs": [
    {
     "data": {
      "text/plain": [
       "0       2002-01-04\n",
       "1       2002-02-02\n",
       "2       2002-02-04\n",
       "3       2002-02-07\n",
       "4       2002-02-18\n",
       "           ...    \n",
       "51061   2004-12-02\n",
       "51062   2004-12-02\n",
       "51063   2004-12-02\n",
       "51064   2004-12-02\n",
       "51065   2004-12-02\n",
       "Name: Date Received, Length: 51066, dtype: datetime64[ns]"
      ]
     },
     "execution_count": 313,
     "metadata": {},
     "output_type": "execute_result"
    }
   ],
   "source": [
    "df['Date Received'] = pd.to_datetime(df['Date Received'])\n",
    "df['Date Received']"
   ]
  },
  {
   "cell_type": "code",
   "execution_count": 314,
   "metadata": {
    "ExecuteTime": {
     "end_time": "2019-10-12T18:25:47.296919Z",
     "start_time": "2019-10-12T18:25:37.542785Z"
    }
   },
   "outputs": [],
   "source": [
    "df.dropna(thresh=2,inplace=True)\n",
    "df.dropna(axis=0,subset=['Incident Date'],inplace=True)\n",
    "df['Incident Date_NEW'] = pd.to_datetime(df['Incident Date'],errors='coerce').dt.date"
   ]
  },
  {
   "cell_type": "code",
   "execution_count": 315,
   "metadata": {
    "ExecuteTime": {
     "end_time": "2019-10-12T18:25:47.319377Z",
     "start_time": "2019-10-12T18:25:47.297954Z"
    }
   },
   "outputs": [
    {
     "data": {
      "text/html": [
       "<div>\n",
       "<style scoped>\n",
       "    .dataframe tbody tr th:only-of-type {\n",
       "        vertical-align: middle;\n",
       "    }\n",
       "\n",
       "    .dataframe tbody tr th {\n",
       "        vertical-align: top;\n",
       "    }\n",
       "\n",
       "    .dataframe thead th {\n",
       "        text-align: right;\n",
       "    }\n",
       "</style>\n",
       "<table border=\"1\" class=\"dataframe\">\n",
       "  <thead>\n",
       "    <tr style=\"text-align: right;\">\n",
       "      <th></th>\n",
       "      <th>Claim Number</th>\n",
       "      <th>Date Received</th>\n",
       "      <th>Incident Date</th>\n",
       "      <th>Airport Code</th>\n",
       "      <th>Airport Name</th>\n",
       "      <th>Airline Name</th>\n",
       "      <th>Claim Type</th>\n",
       "      <th>Claim Site</th>\n",
       "      <th>Item</th>\n",
       "      <th>Claim Amount</th>\n",
       "      <th>Status</th>\n",
       "      <th>Close Amount</th>\n",
       "      <th>Disposition</th>\n",
       "      <th>Incident Date_NEW</th>\n",
       "    </tr>\n",
       "  </thead>\n",
       "  <tbody>\n",
       "    <tr>\n",
       "      <th>28862</th>\n",
       "      <td>0226594M</td>\n",
       "      <td>2004-02-26</td>\n",
       "      <td>03-SEP-0300 00:00</td>\n",
       "      <td>SFO</td>\n",
       "      <td>San Francisco International</td>\n",
       "      <td>UAL</td>\n",
       "      <td>Property Damage</td>\n",
       "      <td>Checked Baggage</td>\n",
       "      <td>Luggage (all types including footlockers)</td>\n",
       "      <td>$150.00</td>\n",
       "      <td>Canceled</td>\n",
       "      <td>NaN</td>\n",
       "      <td>NaN</td>\n",
       "      <td>NaT</td>\n",
       "    </tr>\n",
       "  </tbody>\n",
       "</table>\n",
       "</div>"
      ],
      "text/plain": [
       "      Claim Number Date Received      Incident Date Airport Code  \\\n",
       "28862     0226594M    2004-02-26  03-SEP-0300 00:00          SFO   \n",
       "\n",
       "                      Airport Name Airline Name       Claim Type  \\\n",
       "28862  San Francisco International          UAL  Property Damage   \n",
       "\n",
       "            Claim Site                                       Item  \\\n",
       "28862  Checked Baggage  Luggage (all types including footlockers)   \n",
       "\n",
       "      Claim Amount    Status Close Amount Disposition Incident Date_NEW  \n",
       "28862     $150.00   Canceled          NaN         NaN               NaT  "
      ]
     },
     "execution_count": 315,
     "metadata": {},
     "output_type": "execute_result"
    }
   ],
   "source": [
    "df[df['Incident Date_NEW'].isna()]"
   ]
  },
  {
   "cell_type": "markdown",
   "metadata": {},
   "source": [
    "For the data in the Incident Date column that contain error, replace the year with the year that come from the Date Received column and replace the Incident Date data type into datetime object"
   ]
  },
  {
   "cell_type": "code",
   "execution_count": 316,
   "metadata": {
    "ExecuteTime": {
     "end_time": "2019-10-12T18:25:47.328436Z",
     "start_time": "2019-10-12T18:25:47.321949Z"
    }
   },
   "outputs": [
    {
     "data": {
      "text/plain": [
       "0        12/12/2002 0:00\n",
       "1         1/16/2004 0:00\n",
       "2        11/26/2003 0:00\n",
       "3          1/6/2003 0:00\n",
       "4          2/5/2005 0:00\n",
       "              ...       \n",
       "51061    10/29/2004 0:00\n",
       "51062    10/30/2004 0:00\n",
       "51063    10/31/2004 0:00\n",
       "51064     11/8/2004 0:00\n",
       "51065      8/7/2004 0:00\n",
       "Name: Incident Date, Length: 49346, dtype: object"
      ]
     },
     "execution_count": 316,
     "metadata": {},
     "output_type": "execute_result"
    }
   ],
   "source": [
    "df['Year Received'] = pd.DatetimeIndex(df['Date Received']).year\n",
    "df['Incident Date']"
   ]
  },
  {
   "cell_type": "code",
   "execution_count": 317,
   "metadata": {
    "ExecuteTime": {
     "end_time": "2019-10-12T18:25:58.911024Z",
     "start_time": "2019-10-12T18:25:47.330756Z"
    }
   },
   "outputs": [],
   "source": [
    "# def cleanincidentdate (x):\n",
    "#     return str(x['Year Received'])+\"-\"+str(x['Incident Date']).split(\"-\")[0]+\"-\"+str(x['Incident Date']).split(\"-\")[1]\n",
    "df['Incident Date'] = pd.to_datetime(df['Incident Date'],errors='coerce')\n",
    "df.dropna(axis=0,subset=['Incident Date'],inplace=True)"
   ]
  },
  {
   "cell_type": "markdown",
   "metadata": {},
   "source": [
    "Check the data info and the dataframe that previously contain the error in their data to see if the data have been properly corrected."
   ]
  },
  {
   "cell_type": "code",
   "execution_count": 318,
   "metadata": {
    "ExecuteTime": {
     "end_time": "2019-10-12T18:25:58.953031Z",
     "start_time": "2019-10-12T18:25:58.911988Z"
    },
    "tags": []
   },
   "outputs": [
    {
     "name": "stdout",
     "output_type": "stream",
     "text": [
      "<class 'pandas.core.frame.DataFrame'>\n",
      "Int64Index: 49345 entries, 0 to 51065\n",
      "Data columns (total 15 columns):\n",
      " #   Column             Non-Null Count  Dtype         \n",
      "---  ------             --------------  -----         \n",
      " 0   Claim Number       49345 non-null  object        \n",
      " 1   Date Received      49345 non-null  datetime64[ns]\n",
      " 2   Incident Date      49345 non-null  datetime64[ns]\n",
      " 3   Airport Code       43777 non-null  object        \n",
      " 4   Airport Name       43777 non-null  object        \n",
      " 5   Airline Name       29418 non-null  object        \n",
      " 6   Claim Type         43880 non-null  object        \n",
      " 7   Claim Site         49213 non-null  object        \n",
      " 8   Item               48947 non-null  object        \n",
      " 9   Claim Amount       48239 non-null  object        \n",
      " 10  Status             49345 non-null  object        \n",
      " 11  Close Amount       44708 non-null  object        \n",
      " 12  Disposition        44019 non-null  object        \n",
      " 13  Incident Date_NEW  49345 non-null  object        \n",
      " 14  Year Received      49345 non-null  int64         \n",
      "dtypes: datetime64[ns](2), int64(1), object(12)\n",
      "memory usage: 6.0+ MB\n"
     ]
    }
   ],
   "source": [
    "df.info()"
   ]
  },
  {
   "cell_type": "code",
   "execution_count": 319,
   "metadata": {
    "ExecuteTime": {
     "end_time": "2019-10-12T18:25:58.979517Z",
     "start_time": "2019-10-12T18:25:58.954015Z"
    }
   },
   "outputs": [
    {
     "data": {
      "text/html": [
       "<div>\n",
       "<style scoped>\n",
       "    .dataframe tbody tr th:only-of-type {\n",
       "        vertical-align: middle;\n",
       "    }\n",
       "\n",
       "    .dataframe tbody tr th {\n",
       "        vertical-align: top;\n",
       "    }\n",
       "\n",
       "    .dataframe thead th {\n",
       "        text-align: right;\n",
       "    }\n",
       "</style>\n",
       "<table border=\"1\" class=\"dataframe\">\n",
       "  <thead>\n",
       "    <tr style=\"text-align: right;\">\n",
       "      <th></th>\n",
       "      <th>Claim Number</th>\n",
       "      <th>Date Received</th>\n",
       "      <th>Incident Date</th>\n",
       "      <th>Airport Code</th>\n",
       "      <th>Airport Name</th>\n",
       "      <th>Airline Name</th>\n",
       "      <th>Claim Type</th>\n",
       "      <th>Claim Site</th>\n",
       "      <th>Item</th>\n",
       "      <th>Claim Amount</th>\n",
       "      <th>Status</th>\n",
       "      <th>Close Amount</th>\n",
       "      <th>Disposition</th>\n",
       "      <th>Incident Date_NEW</th>\n",
       "      <th>Year Received</th>\n",
       "    </tr>\n",
       "  </thead>\n",
       "  <tbody>\n",
       "    <tr>\n",
       "      <th>0</th>\n",
       "      <td>0909802M</td>\n",
       "      <td>2002-01-04</td>\n",
       "      <td>2002-12-12</td>\n",
       "      <td>EWR</td>\n",
       "      <td>Newark International Airport</td>\n",
       "      <td>Continental Airlines</td>\n",
       "      <td>Property Damage</td>\n",
       "      <td>Checkpoint</td>\n",
       "      <td>Other</td>\n",
       "      <td>$350.00</td>\n",
       "      <td>Approved</td>\n",
       "      <td>$350.00</td>\n",
       "      <td>Approve in Full</td>\n",
       "      <td>2002-12-12</td>\n",
       "      <td>2002</td>\n",
       "    </tr>\n",
       "    <tr>\n",
       "      <th>1</th>\n",
       "      <td>0202417M</td>\n",
       "      <td>2002-02-02</td>\n",
       "      <td>2004-01-16</td>\n",
       "      <td>SEA</td>\n",
       "      <td>Seattle-Tacoma International</td>\n",
       "      <td>NaN</td>\n",
       "      <td>Property Damage</td>\n",
       "      <td>Checked Baggage</td>\n",
       "      <td>Luggage (all types including footlockers)</td>\n",
       "      <td>$100.00</td>\n",
       "      <td>Settled</td>\n",
       "      <td>$50.00</td>\n",
       "      <td>Settle</td>\n",
       "      <td>2004-01-16</td>\n",
       "      <td>2002</td>\n",
       "    </tr>\n",
       "    <tr>\n",
       "      <th>2</th>\n",
       "      <td>0202445M</td>\n",
       "      <td>2002-02-04</td>\n",
       "      <td>2003-11-26</td>\n",
       "      <td>STL</td>\n",
       "      <td>Lambert St. Louis International</td>\n",
       "      <td>American Airlines</td>\n",
       "      <td>Property Damage</td>\n",
       "      <td>Checked Baggage</td>\n",
       "      <td>Cell Phones</td>\n",
       "      <td>$278.88</td>\n",
       "      <td>Settled</td>\n",
       "      <td>$227.92</td>\n",
       "      <td>Settle</td>\n",
       "      <td>2003-11-26</td>\n",
       "      <td>2002</td>\n",
       "    </tr>\n",
       "    <tr>\n",
       "      <th>3</th>\n",
       "      <td>0909816M</td>\n",
       "      <td>2002-02-07</td>\n",
       "      <td>2003-01-06</td>\n",
       "      <td>MIA</td>\n",
       "      <td>Miami International Airport</td>\n",
       "      <td>American Airlines</td>\n",
       "      <td>Property Damage</td>\n",
       "      <td>Checkpoint</td>\n",
       "      <td>Luggage (all types including footlockers)</td>\n",
       "      <td>$50.00</td>\n",
       "      <td>Approved</td>\n",
       "      <td>$50.00</td>\n",
       "      <td>Approve in Full</td>\n",
       "      <td>2003-01-06</td>\n",
       "      <td>2002</td>\n",
       "    </tr>\n",
       "    <tr>\n",
       "      <th>4</th>\n",
       "      <td>2005032379513</td>\n",
       "      <td>2002-02-18</td>\n",
       "      <td>2005-02-05</td>\n",
       "      <td>MCO</td>\n",
       "      <td>Orlando International Airport</td>\n",
       "      <td>Delta (Song)</td>\n",
       "      <td>Property Damage</td>\n",
       "      <td>Checkpoint</td>\n",
       "      <td>Baby - Strollers; car seats; playpen; etc.</td>\n",
       "      <td>$84.79</td>\n",
       "      <td>Approved</td>\n",
       "      <td>$84.79</td>\n",
       "      <td>Approve in Full</td>\n",
       "      <td>2005-02-05</td>\n",
       "      <td>2002</td>\n",
       "    </tr>\n",
       "    <tr>\n",
       "      <th>...</th>\n",
       "      <td>...</td>\n",
       "      <td>...</td>\n",
       "      <td>...</td>\n",
       "      <td>...</td>\n",
       "      <td>...</td>\n",
       "      <td>...</td>\n",
       "      <td>...</td>\n",
       "      <td>...</td>\n",
       "      <td>...</td>\n",
       "      <td>...</td>\n",
       "      <td>...</td>\n",
       "      <td>...</td>\n",
       "      <td>...</td>\n",
       "      <td>...</td>\n",
       "      <td>...</td>\n",
       "    </tr>\n",
       "    <tr>\n",
       "      <th>51061</th>\n",
       "      <td>2004122971527</td>\n",
       "      <td>2004-12-02</td>\n",
       "      <td>2004-10-29</td>\n",
       "      <td>TRI</td>\n",
       "      <td>Tri-Cities Regional</td>\n",
       "      <td>NaN</td>\n",
       "      <td>Passenger Property Loss</td>\n",
       "      <td>Checked Baggage</td>\n",
       "      <td>Jewelry - Fine</td>\n",
       "      <td>$68.25</td>\n",
       "      <td>Approved</td>\n",
       "      <td>$68.25</td>\n",
       "      <td>Approve in Full</td>\n",
       "      <td>2004-10-29</td>\n",
       "      <td>2004</td>\n",
       "    </tr>\n",
       "    <tr>\n",
       "      <th>51062</th>\n",
       "      <td>2004122971530</td>\n",
       "      <td>2004-12-02</td>\n",
       "      <td>2004-10-30</td>\n",
       "      <td>MIA</td>\n",
       "      <td>Miami International Airport</td>\n",
       "      <td>American Airlines</td>\n",
       "      <td>Passenger Property Loss</td>\n",
       "      <td>Checked Baggage</td>\n",
       "      <td>Clothing - Shoes; belts; accessories; etc.</td>\n",
       "      <td>$80.00</td>\n",
       "      <td>Approved</td>\n",
       "      <td>$80.00</td>\n",
       "      <td>Approve in Full</td>\n",
       "      <td>2004-10-30</td>\n",
       "      <td>2004</td>\n",
       "    </tr>\n",
       "    <tr>\n",
       "      <th>51063</th>\n",
       "      <td>2004122971533</td>\n",
       "      <td>2004-12-02</td>\n",
       "      <td>2004-10-31</td>\n",
       "      <td>CLL</td>\n",
       "      <td>Easterwood/College Station; TX</td>\n",
       "      <td>Continental Airlines</td>\n",
       "      <td>Passenger Property Loss</td>\n",
       "      <td>Checked Baggage</td>\n",
       "      <td>Clothing - Shoes; belts; accessories; etc.</td>\n",
       "      <td>$325.67</td>\n",
       "      <td>Approved</td>\n",
       "      <td>$325.67</td>\n",
       "      <td>Approve in Full</td>\n",
       "      <td>2004-10-31</td>\n",
       "      <td>2004</td>\n",
       "    </tr>\n",
       "    <tr>\n",
       "      <th>51064</th>\n",
       "      <td>2004122971554</td>\n",
       "      <td>2004-12-02</td>\n",
       "      <td>2004-11-08</td>\n",
       "      <td>ABQ</td>\n",
       "      <td>Albuquerque International Sunport Airport</td>\n",
       "      <td>UAL</td>\n",
       "      <td>Passenger Property Loss</td>\n",
       "      <td>Checked Baggage</td>\n",
       "      <td>Locks</td>\n",
       "      <td>$14.36</td>\n",
       "      <td>Approved</td>\n",
       "      <td>$14.36</td>\n",
       "      <td>Approve in Full</td>\n",
       "      <td>2004-11-08</td>\n",
       "      <td>2004</td>\n",
       "    </tr>\n",
       "    <tr>\n",
       "      <th>51065</th>\n",
       "      <td>2004122971557</td>\n",
       "      <td>2004-12-02</td>\n",
       "      <td>2004-08-07</td>\n",
       "      <td>IAH</td>\n",
       "      <td>Houston - George Bush Intercontinental Airport</td>\n",
       "      <td>Continental Airlines</td>\n",
       "      <td>Passenger Property Loss</td>\n",
       "      <td>Checked Baggage</td>\n",
       "      <td>Other</td>\n",
       "      <td>$19.17</td>\n",
       "      <td>Approved</td>\n",
       "      <td>$19.17</td>\n",
       "      <td>Approve in Full</td>\n",
       "      <td>2004-08-07</td>\n",
       "      <td>2004</td>\n",
       "    </tr>\n",
       "  </tbody>\n",
       "</table>\n",
       "<p>49345 rows × 15 columns</p>\n",
       "</div>"
      ],
      "text/plain": [
       "        Claim Number Date Received Incident Date Airport Code  \\\n",
       "0           0909802M    2002-01-04    2002-12-12          EWR   \n",
       "1           0202417M    2002-02-02    2004-01-16          SEA   \n",
       "2           0202445M    2002-02-04    2003-11-26          STL   \n",
       "3           0909816M    2002-02-07    2003-01-06          MIA   \n",
       "4      2005032379513    2002-02-18    2005-02-05          MCO   \n",
       "...              ...           ...           ...          ...   \n",
       "51061  2004122971527    2004-12-02    2004-10-29          TRI   \n",
       "51062  2004122971530    2004-12-02    2004-10-30          MIA   \n",
       "51063  2004122971533    2004-12-02    2004-10-31          CLL   \n",
       "51064  2004122971554    2004-12-02    2004-11-08          ABQ   \n",
       "51065  2004122971557    2004-12-02    2004-08-07          IAH   \n",
       "\n",
       "                                         Airport Name          Airline Name  \\\n",
       "0                        Newark International Airport  Continental Airlines   \n",
       "1                        Seattle-Tacoma International                   NaN   \n",
       "2                     Lambert St. Louis International     American Airlines   \n",
       "3                         Miami International Airport     American Airlines   \n",
       "4                       Orlando International Airport          Delta (Song)   \n",
       "...                                               ...                   ...   \n",
       "51061                             Tri-Cities Regional                   NaN   \n",
       "51062                     Miami International Airport     American Airlines   \n",
       "51063                  Easterwood/College Station; TX  Continental Airlines   \n",
       "51064       Albuquerque International Sunport Airport                   UAL   \n",
       "51065  Houston - George Bush Intercontinental Airport  Continental Airlines   \n",
       "\n",
       "                    Claim Type       Claim Site  \\\n",
       "0              Property Damage       Checkpoint   \n",
       "1              Property Damage  Checked Baggage   \n",
       "2              Property Damage  Checked Baggage   \n",
       "3              Property Damage       Checkpoint   \n",
       "4              Property Damage       Checkpoint   \n",
       "...                        ...              ...   \n",
       "51061  Passenger Property Loss  Checked Baggage   \n",
       "51062  Passenger Property Loss  Checked Baggage   \n",
       "51063  Passenger Property Loss  Checked Baggage   \n",
       "51064  Passenger Property Loss  Checked Baggage   \n",
       "51065  Passenger Property Loss  Checked Baggage   \n",
       "\n",
       "                                             Item Claim Amount    Status  \\\n",
       "0                                           Other     $350.00   Approved   \n",
       "1       Luggage (all types including footlockers)     $100.00    Settled   \n",
       "2                                     Cell Phones     $278.88    Settled   \n",
       "3       Luggage (all types including footlockers)      $50.00   Approved   \n",
       "4      Baby - Strollers; car seats; playpen; etc.      $84.79   Approved   \n",
       "...                                           ...          ...       ...   \n",
       "51061                              Jewelry - Fine      $68.25   Approved   \n",
       "51062  Clothing - Shoes; belts; accessories; etc.      $80.00   Approved   \n",
       "51063  Clothing - Shoes; belts; accessories; etc.     $325.67   Approved   \n",
       "51064                                       Locks      $14.36   Approved   \n",
       "51065                                       Other      $19.17   Approved   \n",
       "\n",
       "      Close Amount      Disposition Incident Date_NEW  Year Received  \n",
       "0         $350.00   Approve in Full        2002-12-12           2002  \n",
       "1          $50.00            Settle        2004-01-16           2002  \n",
       "2         $227.92            Settle        2003-11-26           2002  \n",
       "3          $50.00   Approve in Full        2003-01-06           2002  \n",
       "4          $84.79   Approve in Full        2005-02-05           2002  \n",
       "...            ...              ...               ...            ...  \n",
       "51061      $68.25   Approve in Full        2004-10-29           2004  \n",
       "51062      $80.00   Approve in Full        2004-10-30           2004  \n",
       "51063     $325.67   Approve in Full        2004-10-31           2004  \n",
       "51064      $14.36   Approve in Full        2004-11-08           2004  \n",
       "51065      $19.17   Approve in Full        2004-08-07           2004  \n",
       "\n",
       "[49345 rows x 15 columns]"
      ]
     },
     "execution_count": 319,
     "metadata": {},
     "output_type": "execute_result"
    }
   ],
   "source": [
    "df"
   ]
  },
  {
   "cell_type": "markdown",
   "metadata": {},
   "source": [
    "Create a new feature of the day differences between claim received and the day of the incident called Day Differences, which contain the days that come from the Date Received column substracted by the Incident Date column (Date Received - Incident Date). We have this feature to see the time differences between when the claim made with the incident that happen."
   ]
  },
  {
   "cell_type": "code",
   "execution_count": 320,
   "metadata": {
    "ExecuteTime": {
     "end_time": "2019-10-12T18:26:01.106092Z",
     "start_time": "2019-10-12T18:25:58.980946Z"
    },
    "tags": []
   },
   "outputs": [
    {
     "name": "stdout",
     "output_type": "stream",
     "text": [
      "<class 'pandas.core.frame.DataFrame'>\n",
      "Int64Index: 49345 entries, 0 to 51065\n",
      "Data columns (total 16 columns):\n",
      " #   Column             Non-Null Count  Dtype          \n",
      "---  ------             --------------  -----          \n",
      " 0   Claim Number       49345 non-null  object         \n",
      " 1   Date Received      49345 non-null  datetime64[ns] \n",
      " 2   Incident Date      49345 non-null  datetime64[ns] \n",
      " 3   Airport Code       43777 non-null  object         \n",
      " 4   Airport Name       43777 non-null  object         \n",
      " 5   Airline Name       29418 non-null  object         \n",
      " 6   Claim Type         43880 non-null  object         \n",
      " 7   Claim Site         49213 non-null  object         \n",
      " 8   Item               48947 non-null  object         \n",
      " 9   Claim Amount       48239 non-null  object         \n",
      " 10  Status             49345 non-null  object         \n",
      " 11  Close Amount       44708 non-null  object         \n",
      " 12  Disposition        44019 non-null  object         \n",
      " 13  Incident Date_NEW  49345 non-null  object         \n",
      " 14  Year Received      49345 non-null  int64          \n",
      " 15  Day Difference     49345 non-null  timedelta64[ns]\n",
      "dtypes: datetime64[ns](2), int64(1), object(12), timedelta64[ns](1)\n",
      "memory usage: 6.4+ MB\n"
     ]
    }
   ],
   "source": [
    "df['Day Difference']=df['Date Received']-df['Incident Date']\n",
    "df['Day Difference']\n",
    "df.info()"
   ]
  },
  {
   "cell_type": "markdown",
   "metadata": {},
   "source": [
    "Lets try to visualize the distribution of the Day Differences with all the NaN just to be dropped first"
   ]
  },
  {
   "cell_type": "code",
   "execution_count": 321,
   "metadata": {
    "ExecuteTime": {
     "end_time": "2019-10-12T18:26:01.529064Z",
     "start_time": "2019-10-12T18:26:01.107006Z"
    }
   },
   "outputs": [
    {
     "data": {
      "text/plain": [
       "<matplotlib.axes._subplots.AxesSubplot at 0x255ca6d34c8>"
      ]
     },
     "execution_count": 321,
     "metadata": {},
     "output_type": "execute_result"
    },
    {
     "data": {
      "image/png": "[encoded data removed]",
      "text/plain": [
       "<Figure size 576x576 with 1 Axes>"
      ]
     },
     "metadata": {},
     "output_type": "display_data"
    }
   ],
   "source": [
    "df.dropna(axis=0,subset=['Day Difference'],inplace=True)\n",
    "sns.set(style='whitegrid')\n",
    "plt.figure(figsize = (8,8))\n",
    "sns.distplot(df['Day Difference'],kde=True,bins=200)"
   ]
  },
  {
   "cell_type": "markdown",
   "metadata": {},
   "source": [
    "If we seen it from the plot, it seems there is days that less than 0 and even over than 1000. Lets try to visualize them both"
   ]
  },
  {
   "cell_type": "code",
   "execution_count": 322,
   "metadata": {
    "ExecuteTime": {
     "end_time": "2019-10-12T18:26:01.850621Z",
     "start_time": "2019-10-12T18:26:01.530109Z"
    }
   },
   "outputs": [
    {
     "data": {
      "text/plain": [
       "<matplotlib.axes._subplots.AxesSubplot at 0x255ce961388>"
      ]
     },
     "execution_count": 322,
     "metadata": {},
     "output_type": "execute_result"
    },
    {
     "data": {
      "image/png": "[encoded data removed]",
      "text/plain": [
       "<Figure size 432x288 with 1 Axes>"
      ]
     },
     "metadata": {},
     "output_type": "display_data"
    }
   ],
   "source": [
    "df['selisih hari']= pd.to_numeric(df['Day Difference'].dt.days, downcast='integer')\n",
    "daydfunder0 = df[df['selisih hari']<0]\n",
    "sns.distplot(daydfunder0['Day Difference'])\n",
    "# sns.set(style='whitegrid')\n",
    "# plt.figure(figsize = (8,8))\n",
    "# sns.distplot(df['Day Difference'],bins=1000)\n",
    "# plt.show()"
   ]
  },
  {
   "cell_type": "code",
   "execution_count": 323,
   "metadata": {
    "ExecuteTime": {
     "end_time": "2019-10-12T18:26:02.222300Z",
     "start_time": "2019-10-12T18:26:01.851620Z"
    }
   },
   "outputs": [
    {
     "data": {
      "text/plain": [
       "<matplotlib.axes._subplots.AxesSubplot at 0x255ceb65608>"
      ]
     },
     "execution_count": 323,
     "metadata": {},
     "output_type": "execute_result"
    },
    {
     "data": {
      "image/png": "[encoded data removed]",
      "text/plain": [
       "<Figure size 432x288 with 1 Axes>"
      ]
     },
     "metadata": {},
     "output_type": "display_data"
    }
   ],
   "source": [
    "daydfover1000 = df[df['selisih hari']>1000]\n",
    "sns.distplot(daydfover1000['Day Difference'])"
   ]
  },
  {
   "cell_type": "markdown",
   "metadata": {},
   "source": [
    "## Question\n",
    "\n",
    "Why do you think there is day that way more than thousand days differences, and why some day differences are less than 0? (claim was made before the incident is like someone predicting a future after all)."
   ]
  },
  {
   "cell_type": "markdown",
   "metadata": {},
   "source": [
    "There are a lot of reasons I could think of, some of them are Fraudulent Claims or technical issues at the data gathering point(Let's say the computer broke down when the claim was made and therefore, the data were input not in exact time the claims were made,maybe some time after). "
   ]
  },
  {
   "cell_type": "markdown",
   "metadata": {},
   "source": [
    "Remove the $ sign (some data need even more clean up by replacing the ; sign into . sign) from the Claim Amount columns and Close Amount columns, and change those columns datatype into float datatype"
   ]
  },
  {
   "cell_type": "code",
   "execution_count": 327,
   "metadata": {
    "ExecuteTime": {
     "end_time": "2019-10-12T18:26:02.462025Z",
     "start_time": "2019-10-12T18:26:02.223265Z"
    }
   },
   "outputs": [],
   "source": [
    "# def removesign(y):\n",
    "#     return y['Claim Amount'].split(\"$\")[1]\n",
    "\n",
    "# df['Claim Amount_NEW']= pd.to_numeric(df['Claim Amount'], downcast='integer',errors='coerce')\n",
    "# df['Close Amount-NEW']= pd.to_numeric(df['Close Amount'], downcast='integer',errors='coerce')\n",
    "df['Claim Amount_NEW'] = (df['Claim Amount']).astype(str).str.replace('$',\"\")\n",
    "df['Claim Amount_NEW'] = pd.to_numeric(df['Claim Amount_NEW'], downcast='float',errors='coerce')\n",
    "df['Close Amount_NEW'] = (df['Close Amount']).astype(str).str.replace('$',\"\")\n",
    "df['Close Amount_NEW'] = pd.to_numeric(df['Close Amount_NEW'], downcast='float',errors='coerce')\n",
    "# df['Claim Amount_NEW']= pd.to_numeric(df['Claim Amount'], downcast='integer',errors='coerce')\n",
    "# df['Close Amount-NEW']= pd.to_numeric(df['Close Amount'], downcast='integer',errors='coerce')\n",
    "# df.info()"
   ]
  },
  {
   "cell_type": "markdown",
   "metadata": {},
   "source": [
    "Create a new columns called Amount Differences by substract the Claim Amount with Close Amount columns"
   ]
  },
  {
   "cell_type": "code",
   "execution_count": 328,
   "metadata": {
    "ExecuteTime": {
     "end_time": "2019-10-12T18:26:03.325856Z",
     "start_time": "2019-10-12T18:26:02.463002Z"
    }
   },
   "outputs": [],
   "source": [
    "df['Amount Differences'] = df['Claim Amount_NEW'] - df['Close Amount_NEW']"
   ]
  },
  {
   "cell_type": "code",
   "execution_count": 329,
   "metadata": {
    "ExecuteTime": {
     "end_time": "2019-10-12T18:26:03.359098Z",
     "start_time": "2019-10-12T18:26:03.326831Z"
    }
   },
   "outputs": [
    {
     "name": "stdout",
     "output_type": "stream",
     "text": [
      "<class 'pandas.core.frame.DataFrame'>\n",
      "Int64Index: 49345 entries, 0 to 51065\n",
      "Data columns (total 22 columns):\n",
      " #   Column              Non-Null Count  Dtype          \n",
      "---  ------              --------------  -----          \n",
      " 0   Claim Number        49345 non-null  object         \n",
      " 1   Date Received       49345 non-null  datetime64[ns] \n",
      " 2   Incident Date       49345 non-null  datetime64[ns] \n",
      " 3   Airport Code        43777 non-null  object         \n",
      " 4   Airport Name        43777 non-null  object         \n",
      " 5   Airline Name        29418 non-null  object         \n",
      " 6   Claim Type          43880 non-null  object         \n",
      " 7   Claim Site          49213 non-null  object         \n",
      " 8   Item                48947 non-null  object         \n",
      " 9   Claim Amount        48239 non-null  object         \n",
      " 10  Status              49345 non-null  object         \n",
      " 11  Close Amount        44708 non-null  object         \n",
      " 12  Disposition         44019 non-null  object         \n",
      " 13  Incident Date_NEW   49345 non-null  object         \n",
      " 14  Year Received       49345 non-null  int64          \n",
      " 15  Day Difference      49345 non-null  timedelta64[ns]\n",
      " 16  selisih hari        49345 non-null  int16          \n",
      " 17  Claim Amount_NEW    43047 non-null  float32        \n",
      " 18  Claim Amount-NEW    43047 non-null  float32        \n",
      " 19  Close Amount_NEW    43683 non-null  float32        \n",
      " 20  Close Amount-NEW    43683 non-null  float32        \n",
      " 21  Amount Differences  39656 non-null  float32        \n",
      "dtypes: datetime64[ns](2), float32(5), int16(1), int64(1), object(12), timedelta64[ns](1)\n",
      "memory usage: 7.4+ MB\n"
     ]
    }
   ],
   "source": [
    "df.info()"
   ]
  },
  {
   "cell_type": "code",
   "execution_count": 330,
   "metadata": {
    "ExecuteTime": {
     "end_time": "2019-10-12T18:26:03.378050Z",
     "start_time": "2019-10-12T18:26:03.363119Z"
    }
   },
   "outputs": [
    {
     "data": {
      "text/html": [
       "<div>\n",
       "<style scoped>\n",
       "    .dataframe tbody tr th:only-of-type {\n",
       "        vertical-align: middle;\n",
       "    }\n",
       "\n",
       "    .dataframe tbody tr th {\n",
       "        vertical-align: top;\n",
       "    }\n",
       "\n",
       "    .dataframe thead th {\n",
       "        text-align: right;\n",
       "    }\n",
       "</style>\n",
       "<table border=\"1\" class=\"dataframe\">\n",
       "  <thead>\n",
       "    <tr style=\"text-align: right;\">\n",
       "      <th></th>\n",
       "      <th>Claim Number</th>\n",
       "      <th>Date Received</th>\n",
       "      <th>Incident Date</th>\n",
       "      <th>Airport Code</th>\n",
       "      <th>Airport Name</th>\n",
       "      <th>Airline Name</th>\n",
       "      <th>Claim Type</th>\n",
       "      <th>Claim Site</th>\n",
       "      <th>Item</th>\n",
       "      <th>Claim Amount</th>\n",
       "      <th>...</th>\n",
       "      <th>Disposition</th>\n",
       "      <th>Incident Date_NEW</th>\n",
       "      <th>Year Received</th>\n",
       "      <th>Day Difference</th>\n",
       "      <th>selisih hari</th>\n",
       "      <th>Claim Amount_NEW</th>\n",
       "      <th>Claim Amount-NEW</th>\n",
       "      <th>Close Amount_NEW</th>\n",
       "      <th>Close Amount-NEW</th>\n",
       "      <th>Amount Differences</th>\n",
       "    </tr>\n",
       "  </thead>\n",
       "  <tbody>\n",
       "    <tr>\n",
       "      <th>0</th>\n",
       "      <td>0909802M</td>\n",
       "      <td>2002-01-04</td>\n",
       "      <td>2002-12-12</td>\n",
       "      <td>EWR</td>\n",
       "      <td>Newark International Airport</td>\n",
       "      <td>Continental Airlines</td>\n",
       "      <td>Property Damage</td>\n",
       "      <td>Checkpoint</td>\n",
       "      <td>Other</td>\n",
       "      <td>$350.00</td>\n",
       "      <td>...</td>\n",
       "      <td>Approve in Full</td>\n",
       "      <td>2002-12-12</td>\n",
       "      <td>2002</td>\n",
       "      <td>-342 days</td>\n",
       "      <td>-342</td>\n",
       "      <td>350.000000</td>\n",
       "      <td>350.000000</td>\n",
       "      <td>350.000000</td>\n",
       "      <td>350.000000</td>\n",
       "      <td>0.000000</td>\n",
       "    </tr>\n",
       "    <tr>\n",
       "      <th>1</th>\n",
       "      <td>0202417M</td>\n",
       "      <td>2002-02-02</td>\n",
       "      <td>2004-01-16</td>\n",
       "      <td>SEA</td>\n",
       "      <td>Seattle-Tacoma International</td>\n",
       "      <td>NaN</td>\n",
       "      <td>Property Damage</td>\n",
       "      <td>Checked Baggage</td>\n",
       "      <td>Luggage (all types including footlockers)</td>\n",
       "      <td>$100.00</td>\n",
       "      <td>...</td>\n",
       "      <td>Settle</td>\n",
       "      <td>2004-01-16</td>\n",
       "      <td>2002</td>\n",
       "      <td>-713 days</td>\n",
       "      <td>-713</td>\n",
       "      <td>100.000000</td>\n",
       "      <td>100.000000</td>\n",
       "      <td>50.000000</td>\n",
       "      <td>50.000000</td>\n",
       "      <td>50.000000</td>\n",
       "    </tr>\n",
       "    <tr>\n",
       "      <th>2</th>\n",
       "      <td>0202445M</td>\n",
       "      <td>2002-02-04</td>\n",
       "      <td>2003-11-26</td>\n",
       "      <td>STL</td>\n",
       "      <td>Lambert St. Louis International</td>\n",
       "      <td>American Airlines</td>\n",
       "      <td>Property Damage</td>\n",
       "      <td>Checked Baggage</td>\n",
       "      <td>Cell Phones</td>\n",
       "      <td>$278.88</td>\n",
       "      <td>...</td>\n",
       "      <td>Settle</td>\n",
       "      <td>2003-11-26</td>\n",
       "      <td>2002</td>\n",
       "      <td>-660 days</td>\n",
       "      <td>-660</td>\n",
       "      <td>278.880005</td>\n",
       "      <td>278.880005</td>\n",
       "      <td>227.919998</td>\n",
       "      <td>227.919998</td>\n",
       "      <td>50.960007</td>\n",
       "    </tr>\n",
       "    <tr>\n",
       "      <th>3</th>\n",
       "      <td>0909816M</td>\n",
       "      <td>2002-02-07</td>\n",
       "      <td>2003-01-06</td>\n",
       "      <td>MIA</td>\n",
       "      <td>Miami International Airport</td>\n",
       "      <td>American Airlines</td>\n",
       "      <td>Property Damage</td>\n",
       "      <td>Checkpoint</td>\n",
       "      <td>Luggage (all types including footlockers)</td>\n",
       "      <td>$50.00</td>\n",
       "      <td>...</td>\n",
       "      <td>Approve in Full</td>\n",
       "      <td>2003-01-06</td>\n",
       "      <td>2002</td>\n",
       "      <td>-333 days</td>\n",
       "      <td>-333</td>\n",
       "      <td>50.000000</td>\n",
       "      <td>50.000000</td>\n",
       "      <td>50.000000</td>\n",
       "      <td>50.000000</td>\n",
       "      <td>0.000000</td>\n",
       "    </tr>\n",
       "    <tr>\n",
       "      <th>4</th>\n",
       "      <td>2005032379513</td>\n",
       "      <td>2002-02-18</td>\n",
       "      <td>2005-02-05</td>\n",
       "      <td>MCO</td>\n",
       "      <td>Orlando International Airport</td>\n",
       "      <td>Delta (Song)</td>\n",
       "      <td>Property Damage</td>\n",
       "      <td>Checkpoint</td>\n",
       "      <td>Baby - Strollers; car seats; playpen; etc.</td>\n",
       "      <td>$84.79</td>\n",
       "      <td>...</td>\n",
       "      <td>Approve in Full</td>\n",
       "      <td>2005-02-05</td>\n",
       "      <td>2002</td>\n",
       "      <td>-1083 days</td>\n",
       "      <td>-1083</td>\n",
       "      <td>84.790001</td>\n",
       "      <td>84.790001</td>\n",
       "      <td>84.790001</td>\n",
       "      <td>84.790001</td>\n",
       "      <td>0.000000</td>\n",
       "    </tr>\n",
       "    <tr>\n",
       "      <th>...</th>\n",
       "      <td>...</td>\n",
       "      <td>...</td>\n",
       "      <td>...</td>\n",
       "      <td>...</td>\n",
       "      <td>...</td>\n",
       "      <td>...</td>\n",
       "      <td>...</td>\n",
       "      <td>...</td>\n",
       "      <td>...</td>\n",
       "      <td>...</td>\n",
       "      <td>...</td>\n",
       "      <td>...</td>\n",
       "      <td>...</td>\n",
       "      <td>...</td>\n",
       "      <td>...</td>\n",
       "      <td>...</td>\n",
       "      <td>...</td>\n",
       "      <td>...</td>\n",
       "      <td>...</td>\n",
       "      <td>...</td>\n",
       "      <td>...</td>\n",
       "    </tr>\n",
       "    <tr>\n",
       "      <th>51061</th>\n",
       "      <td>2004122971527</td>\n",
       "      <td>2004-12-02</td>\n",
       "      <td>2004-10-29</td>\n",
       "      <td>TRI</td>\n",
       "      <td>Tri-Cities Regional</td>\n",
       "      <td>NaN</td>\n",
       "      <td>Passenger Property Loss</td>\n",
       "      <td>Checked Baggage</td>\n",
       "      <td>Jewelry - Fine</td>\n",
       "      <td>$68.25</td>\n",
       "      <td>...</td>\n",
       "      <td>Approve in Full</td>\n",
       "      <td>2004-10-29</td>\n",
       "      <td>2004</td>\n",
       "      <td>34 days</td>\n",
       "      <td>34</td>\n",
       "      <td>68.250000</td>\n",
       "      <td>68.250000</td>\n",
       "      <td>68.250000</td>\n",
       "      <td>68.250000</td>\n",
       "      <td>0.000000</td>\n",
       "    </tr>\n",
       "    <tr>\n",
       "      <th>51062</th>\n",
       "      <td>2004122971530</td>\n",
       "      <td>2004-12-02</td>\n",
       "      <td>2004-10-30</td>\n",
       "      <td>MIA</td>\n",
       "      <td>Miami International Airport</td>\n",
       "      <td>American Airlines</td>\n",
       "      <td>Passenger Property Loss</td>\n",
       "      <td>Checked Baggage</td>\n",
       "      <td>Clothing - Shoes; belts; accessories; etc.</td>\n",
       "      <td>$80.00</td>\n",
       "      <td>...</td>\n",
       "      <td>Approve in Full</td>\n",
       "      <td>2004-10-30</td>\n",
       "      <td>2004</td>\n",
       "      <td>33 days</td>\n",
       "      <td>33</td>\n",
       "      <td>80.000000</td>\n",
       "      <td>80.000000</td>\n",
       "      <td>80.000000</td>\n",
       "      <td>80.000000</td>\n",
       "      <td>0.000000</td>\n",
       "    </tr>\n",
       "    <tr>\n",
       "      <th>51063</th>\n",
       "      <td>2004122971533</td>\n",
       "      <td>2004-12-02</td>\n",
       "      <td>2004-10-31</td>\n",
       "      <td>CLL</td>\n",
       "      <td>Easterwood/College Station; TX</td>\n",
       "      <td>Continental Airlines</td>\n",
       "      <td>Passenger Property Loss</td>\n",
       "      <td>Checked Baggage</td>\n",
       "      <td>Clothing - Shoes; belts; accessories; etc.</td>\n",
       "      <td>$325.67</td>\n",
       "      <td>...</td>\n",
       "      <td>Approve in Full</td>\n",
       "      <td>2004-10-31</td>\n",
       "      <td>2004</td>\n",
       "      <td>32 days</td>\n",
       "      <td>32</td>\n",
       "      <td>325.670013</td>\n",
       "      <td>325.670013</td>\n",
       "      <td>325.670013</td>\n",
       "      <td>325.670013</td>\n",
       "      <td>0.000000</td>\n",
       "    </tr>\n",
       "    <tr>\n",
       "      <th>51064</th>\n",
       "      <td>2004122971554</td>\n",
       "      <td>2004-12-02</td>\n",
       "      <td>2004-11-08</td>\n",
       "      <td>ABQ</td>\n",
       "      <td>Albuquerque International Sunport Airport</td>\n",
       "      <td>UAL</td>\n",
       "      <td>Passenger Property Loss</td>\n",
       "      <td>Checked Baggage</td>\n",
       "      <td>Locks</td>\n",
       "      <td>$14.36</td>\n",
       "      <td>...</td>\n",
       "      <td>Approve in Full</td>\n",
       "      <td>2004-11-08</td>\n",
       "      <td>2004</td>\n",
       "      <td>24 days</td>\n",
       "      <td>24</td>\n",
       "      <td>14.360000</td>\n",
       "      <td>14.360000</td>\n",
       "      <td>14.360000</td>\n",
       "      <td>14.360000</td>\n",
       "      <td>0.000000</td>\n",
       "    </tr>\n",
       "    <tr>\n",
       "      <th>51065</th>\n",
       "      <td>2004122971557</td>\n",
       "      <td>2004-12-02</td>\n",
       "      <td>2004-08-07</td>\n",
       "      <td>IAH</td>\n",
       "      <td>Houston - George Bush Intercontinental Airport</td>\n",
       "      <td>Continental Airlines</td>\n",
       "      <td>Passenger Property Loss</td>\n",
       "      <td>Checked Baggage</td>\n",
       "      <td>Other</td>\n",
       "      <td>$19.17</td>\n",
       "      <td>...</td>\n",
       "      <td>Approve in Full</td>\n",
       "      <td>2004-08-07</td>\n",
       "      <td>2004</td>\n",
       "      <td>117 days</td>\n",
       "      <td>117</td>\n",
       "      <td>19.170000</td>\n",
       "      <td>19.170000</td>\n",
       "      <td>19.170000</td>\n",
       "      <td>19.170000</td>\n",
       "      <td>0.000000</td>\n",
       "    </tr>\n",
       "  </tbody>\n",
       "</table>\n",
       "<p>49345 rows × 22 columns</p>\n",
       "</div>"
      ],
      "text/plain": [
       "        Claim Number Date Received Incident Date Airport Code  \\\n",
       "0           0909802M    2002-01-04    2002-12-12          EWR   \n",
       "1           0202417M    2002-02-02    2004-01-16          SEA   \n",
       "2           0202445M    2002-02-04    2003-11-26          STL   \n",
       "3           0909816M    2002-02-07    2003-01-06          MIA   \n",
       "4      2005032379513    2002-02-18    2005-02-05          MCO   \n",
       "...              ...           ...           ...          ...   \n",
       "51061  2004122971527    2004-12-02    2004-10-29          TRI   \n",
       "51062  2004122971530    2004-12-02    2004-10-30          MIA   \n",
       "51063  2004122971533    2004-12-02    2004-10-31          CLL   \n",
       "51064  2004122971554    2004-12-02    2004-11-08          ABQ   \n",
       "51065  2004122971557    2004-12-02    2004-08-07          IAH   \n",
       "\n",
       "                                         Airport Name          Airline Name  \\\n",
       "0                        Newark International Airport  Continental Airlines   \n",
       "1                        Seattle-Tacoma International                   NaN   \n",
       "2                     Lambert St. Louis International     American Airlines   \n",
       "3                         Miami International Airport     American Airlines   \n",
       "4                       Orlando International Airport          Delta (Song)   \n",
       "...                                               ...                   ...   \n",
       "51061                             Tri-Cities Regional                   NaN   \n",
       "51062                     Miami International Airport     American Airlines   \n",
       "51063                  Easterwood/College Station; TX  Continental Airlines   \n",
       "51064       Albuquerque International Sunport Airport                   UAL   \n",
       "51065  Houston - George Bush Intercontinental Airport  Continental Airlines   \n",
       "\n",
       "                    Claim Type       Claim Site  \\\n",
       "0              Property Damage       Checkpoint   \n",
       "1              Property Damage  Checked Baggage   \n",
       "2              Property Damage  Checked Baggage   \n",
       "3              Property Damage       Checkpoint   \n",
       "4              Property Damage       Checkpoint   \n",
       "...                        ...              ...   \n",
       "51061  Passenger Property Loss  Checked Baggage   \n",
       "51062  Passenger Property Loss  Checked Baggage   \n",
       "51063  Passenger Property Loss  Checked Baggage   \n",
       "51064  Passenger Property Loss  Checked Baggage   \n",
       "51065  Passenger Property Loss  Checked Baggage   \n",
       "\n",
       "                                             Item Claim Amount  ...  \\\n",
       "0                                           Other     $350.00   ...   \n",
       "1       Luggage (all types including footlockers)     $100.00   ...   \n",
       "2                                     Cell Phones     $278.88   ...   \n",
       "3       Luggage (all types including footlockers)      $50.00   ...   \n",
       "4      Baby - Strollers; car seats; playpen; etc.      $84.79   ...   \n",
       "...                                           ...          ...  ...   \n",
       "51061                              Jewelry - Fine      $68.25   ...   \n",
       "51062  Clothing - Shoes; belts; accessories; etc.      $80.00   ...   \n",
       "51063  Clothing - Shoes; belts; accessories; etc.     $325.67   ...   \n",
       "51064                                       Locks      $14.36   ...   \n",
       "51065                                       Other      $19.17   ...   \n",
       "\n",
       "           Disposition Incident Date_NEW Year Received Day Difference  \\\n",
       "0      Approve in Full        2002-12-12          2002      -342 days   \n",
       "1               Settle        2004-01-16          2002      -713 days   \n",
       "2               Settle        2003-11-26          2002      -660 days   \n",
       "3      Approve in Full        2003-01-06          2002      -333 days   \n",
       "4      Approve in Full        2005-02-05          2002     -1083 days   \n",
       "...                ...               ...           ...            ...   \n",
       "51061  Approve in Full        2004-10-29          2004        34 days   \n",
       "51062  Approve in Full        2004-10-30          2004        33 days   \n",
       "51063  Approve in Full        2004-10-31          2004        32 days   \n",
       "51064  Approve in Full        2004-11-08          2004        24 days   \n",
       "51065  Approve in Full        2004-08-07          2004       117 days   \n",
       "\n",
       "       selisih hari Claim Amount_NEW  Claim Amount-NEW  Close Amount_NEW  \\\n",
       "0              -342       350.000000        350.000000        350.000000   \n",
       "1              -713       100.000000        100.000000         50.000000   \n",
       "2              -660       278.880005        278.880005        227.919998   \n",
       "3              -333        50.000000         50.000000         50.000000   \n",
       "4             -1083        84.790001         84.790001         84.790001   \n",
       "...             ...              ...               ...               ...   \n",
       "51061            34        68.250000         68.250000         68.250000   \n",
       "51062            33        80.000000         80.000000         80.000000   \n",
       "51063            32       325.670013        325.670013        325.670013   \n",
       "51064            24        14.360000         14.360000         14.360000   \n",
       "51065           117        19.170000         19.170000         19.170000   \n",
       "\n",
       "       Close Amount-NEW  Amount Differences  \n",
       "0            350.000000            0.000000  \n",
       "1             50.000000           50.000000  \n",
       "2            227.919998           50.960007  \n",
       "3             50.000000            0.000000  \n",
       "4             84.790001            0.000000  \n",
       "...                 ...                 ...  \n",
       "51061         68.250000            0.000000  \n",
       "51062         80.000000            0.000000  \n",
       "51063        325.670013            0.000000  \n",
       "51064         14.360000            0.000000  \n",
       "51065         19.170000            0.000000  \n",
       "\n",
       "[49345 rows x 22 columns]"
      ]
     },
     "execution_count": 330,
     "metadata": {},
     "output_type": "execute_result"
    }
   ],
   "source": [
    "df"
   ]
  },
  {
   "cell_type": "markdown",
   "metadata": {
    "ExecuteTime": {
     "end_time": "2019-10-12T13:39:07.676434Z",
     "start_time": "2019-10-12T13:39:07.603597Z"
    }
   },
   "source": [
    "Lets try to visualize it again similar to the Day Differences feature, but this time we would use the Amount Differences feature (still just drop the NaN first)"
   ]
  },
  {
   "cell_type": "code",
   "execution_count": 332,
   "metadata": {
    "ExecuteTime": {
     "end_time": "2019-10-12T18:26:03.756834Z",
     "start_time": "2019-10-12T18:26:03.379975Z"
    }
   },
   "outputs": [
    {
     "data": {
      "text/plain": [
       "<matplotlib.axes._subplots.AxesSubplot at 0x255cfa0d5c8>"
      ]
     },
     "execution_count": 332,
     "metadata": {},
     "output_type": "execute_result"
    },
    {
     "data": {
      "image/png": "[encoded data removed]",
      "text/plain": [
       "<Figure size 432x288 with 1 Axes>"
      ]
     },
     "metadata": {},
     "output_type": "display_data"
    }
   ],
   "source": [
    "sns.distplot(df['Amount Differences'])"
   ]
  },
  {
   "cell_type": "markdown",
   "metadata": {},
   "source": [
    "There is seems a differences in number that was way far. This time, lets use the Interquartile range (IQR) method to find the datapoint that seems to be an outlier based on the Amount Differences column, show the dataframe, and lets describe the Claim Amount and Close Amount column of the outlier dataframe based on the Amount Differences column"
   ]
  },
  {
   "cell_type": "code",
   "execution_count": 339,
   "metadata": {
    "ExecuteTime": {
     "end_time": "2019-10-12T18:26:03.851966Z",
     "start_time": "2019-10-12T18:26:03.803951Z"
    }
   },
   "outputs": [
    {
     "data": {
      "text/plain": [
       "(36374,)"
      ]
     },
     "execution_count": 339,
     "metadata": {},
     "output_type": "execute_result"
    }
   ],
   "source": [
    "Q1_df = df['Amount Differences'].describe()['25%']\n",
    "Q3_df = df['Amount Differences'].describe()['75%']\n",
    "IQR = Q3_df - Q1_df\n",
    "df[(df['Amount Differences'] >= Q1_df - (1.5*IQR)) & (df['Amount Differences'] <= Q3_df + (1.5 * IQR))]['Amount Differences'].shape"
   ]
  },
  {
   "cell_type": "code",
   "execution_count": 334,
   "metadata": {
    "ExecuteTime": {
     "end_time": "2019-10-12T18:26:03.861909Z",
     "start_time": "2019-10-12T18:26:03.852945Z"
    }
   },
   "outputs": [
    {
     "data": {
      "text/plain": [
       "count    43047.000000\n",
       "mean       198.428833\n",
       "std        202.968567\n",
       "min          0.000000\n",
       "25%         51.360001\n",
       "50%        125.000000\n",
       "75%        270.000000\n",
       "max        999.989990\n",
       "Name: Claim Amount_NEW, dtype: float64"
      ]
     },
     "execution_count": 334,
     "metadata": {},
     "output_type": "execute_result"
    }
   ],
   "source": [
    "df['Claim Amount_NEW'].describe()"
   ]
  },
  {
   "cell_type": "code",
   "execution_count": 335,
   "metadata": {
    "ExecuteTime": {
     "end_time": "2019-10-12T18:26:03.871882Z",
     "start_time": "2019-10-12T18:26:03.862906Z"
    }
   },
   "outputs": [
    {
     "data": {
      "text/plain": [
       "count    43683.000000\n",
       "mean        92.809349\n",
       "std        146.277435\n",
       "min          0.000000\n",
       "25%          0.000000\n",
       "50%         42.000000\n",
       "75%        110.000000\n",
       "max        997.750000\n",
       "Name: Close Amount_NEW, dtype: float64"
      ]
     },
     "execution_count": 335,
     "metadata": {},
     "output_type": "execute_result"
    }
   ],
   "source": [
    "df['Close Amount_NEW'].describe()"
   ]
  },
  {
   "cell_type": "code",
   "execution_count": 341,
   "metadata": {},
   "outputs": [
    {
     "data": {
      "text/plain": [
       "(49345, 22)"
      ]
     },
     "execution_count": 341,
     "metadata": {},
     "output_type": "execute_result"
    }
   ],
   "source": [
    "df.shape"
   ]
  },
  {
   "cell_type": "markdown",
   "metadata": {},
   "source": [
    "It seems that Claim Amount feature really affecting lot of the differences that happen as 75% outlier data that in the Close Amount feature is still 0.\n",
    "\n",
    "## Question\n",
    "\n",
    "I assume that many of this big differences happen because these people tend to request for bigger money than what it should be. Do you agree or disagree with my assumption (With an assumption that not outlier is have normal amount differences and outlier have a really big amount differences)? why? Try to explain it with the data "
   ]
  },
  {
   "cell_type": "code",
   "execution_count": 340,
   "metadata": {},
   "outputs": [
    {
     "data": {
      "text/plain": [
       "(36374,)"
      ]
     },
     "execution_count": 340,
     "metadata": {},
     "output_type": "execute_result"
    }
   ],
   "source": [
    "df[(df['Amount Differences'] >= Q1_df - (1.5*IQR)) & (df['Amount Differences'] <= Q3_df + (1.5 * IQR))]['Amount Differences'].shape"
   ]
  },
  {
   "cell_type": "markdown",
   "metadata": {},
   "source": [
    "There are 36374 rows of non-outlier data, while there are 49345 rows of filtered data, as we have run through above. It means 36374/49345*100%= ~75% of shipment is still 'normal'. Therefore, it means not as many people are claiming bigger money, as we thought before. So,it's a NO for this question. "
   ]
  },
  {
   "cell_type": "markdown",
   "metadata": {},
   "source": [
    "## Analysis\n",
    "\n",
    "We have try to cleaning some of the data that we have, and now we could try to done few analysis from the data we had. Try to answer this following question.\n",
    "\n",
    "### Question\n",
    "\n",
    "1. Is there Any relationship between the Airport and/or the Airline with the number of the claim that happen and the Claim Type? Also why is there a NaN in the Claim Type column?\n",
    "\n",
    "1. If you realize, there is many different classes in the Status and Disposition column. What pattern you could find in these 2 columns because of this classes variation? is there any relation with the other columns?"
   ]
  },
  {
   "cell_type": "markdown",
   "metadata": {},
   "source": [
    "## Bonus Question\n",
    "\n",
    "Could you find any interesting Insight from our data that you could explain? Try to explain it with the available data"
   ]
  },
  {
   "cell_type": "code",
   "execution_count": null,
   "metadata": {},
   "outputs": [],
   "source": [
    "sns.jointplot(x='Airline Name',y='Claim Number'.count)"
   ]
  },
  {
   "cell_type": "code",
   "execution_count": 270,
   "metadata": {},
   "outputs": [],
   "source": [
    "df.to_excel('data.xlsx')"
   ]
  },
  {
   "cell_type": "code",
   "execution_count": null,
   "metadata": {},
   "outputs": [],
   "source": []
  }
 ],
 "metadata": {
  "hide_input": false,
  "kernelspec": {
   "display_name": "Python 3",
   "language": "python",
   "name": "python3"
  },
  "language_info": {
   "codemirror_mode": {
    "name": "ipython",
    "version": 3
   },
   "file_extension": ".py",
   "mimetype": "text/x-python",
   "name": "python",
   "nbconvert_exporter": "python",
   "pygments_lexer": "ipython3",
   "version": "3.7.7"
  },
  "varInspector": {
   "cols": {
    "lenName": 16,
    "lenType": 16,
    "lenVar": 40
   },
   "kernels_config": {
    "python": {
     "delete_cmd_postfix": "",
     "delete_cmd_prefix": "del ",
     "library": "var_list.py",
     "varRefreshCmd": "print(var_dic_list())"
    },
    "r": {
     "delete_cmd_postfix": ") ",
     "delete_cmd_prefix": "rm(",
     "library": "var_list.r",
     "varRefreshCmd": "cat(var_dic_list()) "
    }
   },
   "types_to_exclude": [
    "module",
    "function",
    "builtin_function_or_method",
    "instance",
    "_Feature"
   ],
   "window_display": false
  }
 },
 "nbformat": 4,
 "nbformat_minor": 2
}
